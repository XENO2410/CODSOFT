{
  "nbformat": 4,
  "nbformat_minor": 0,
  "metadata": {
    "colab": {
      "provenance": []
    },
    "kernelspec": {
      "name": "python3",
      "display_name": "Python 3"
    },
    "language_info": {
      "name": "python"
    }
  },
  "cells": [
    {
      "cell_type": "code",
      "execution_count": 4,
      "metadata": {
        "id": "VK0_-uumu28j"
      },
      "outputs": [],
      "source": [
        "# import all dependencies\n",
        "\n",
        "import numpy as np\n",
        "import pandas as pd\n",
        "import matplotlib.pyplot as plt\n",
        "\n",
        "from sklearn.model_selection import train_test_split\n",
        "from sklearn.naive_bayes import MultinomialNB\n",
        "from sklearn.feature_extraction.text import TfidfTransformer, TfidfVectorizer"
      ]
    },
    {
      "cell_type": "code",
      "source": [
        "X_train = pd.read_csv('/content/train_data.txt', sep=':::', names = ['TITLE', 'GENRE', 'DESCRIPTION'], engine = 'python')\n",
        "print(X_train.head())"
      ],
      "metadata": {
        "colab": {
          "base_uri": "https://localhost:8080/"
        },
        "id": "r9Su65rD0i93",
        "outputId": "bf306195-f56d-4973-dbb6-f856117f09ac"
      },
      "execution_count": 10,
      "outputs": [
        {
          "output_type": "stream",
          "name": "stdout",
          "text": [
            "                                TITLE       GENRE  \\\n",
            "1       Oscar et la dame rose (2009)       drama    \n",
            "2                       Cupid (1997)    thriller    \n",
            "3   Young, Wild and Wonderful (1980)       adult    \n",
            "4              The Secret Sin (1915)       drama    \n",
            "5             The Unrecovered (2007)       drama    \n",
            "\n",
            "                                         DESCRIPTION  \n",
            "1   Listening in to a conversation between his do...  \n",
            "2   A brother and sister with a past incestuous r...  \n",
            "3   As the bus empties the students for their fie...  \n",
            "4   To help their unemployed father make ends mee...  \n",
            "5   The film's title refers not only to the un-re...  \n"
          ]
        }
      ]
    },
    {
      "cell_type": "code",
      "source": [
        "print(X_train.describe())"
      ],
      "metadata": {
        "id": "iPf67OL626Pr"
      },
      "execution_count": null,
      "outputs": []
    }
  ]
}