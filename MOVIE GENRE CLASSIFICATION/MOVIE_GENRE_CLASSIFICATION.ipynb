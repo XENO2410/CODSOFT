{
  "cells": [
    {
      "cell_type": "code",
      "execution_count": 33,
      "metadata": {
        "id": "VK0_-uumu28j"
      },
      "outputs": [],
      "source": [
        "# import all dependencies\n",
        "\n",
        "import numpy as np\n",
        "import pandas as pd\n",
        "import matplotlib.pyplot as plt\n",
        "\n",
        "from sklearn.model_selection import train_test_split\n",
        "from sklearn.naive_bayes import MultinomialNB\n",
        "from sklearn.feature_extraction.text import TfidfTransformer, TfidfVectorizer\n",
        "from sklearn.metrics import classification_report"
      ]
    },
    {
      "cell_type": "code",
      "execution_count": 12,
      "metadata": {
        "colab": {
          "base_uri": "https://localhost:8080/"
        },
        "id": "r9Su65rD0i93",
        "outputId": "5ecbd54a-bb0b-4216-9464-0a11f20a5f92"
      },
      "outputs": [
        {
          "output_type": "stream",
          "name": "stdout",
          "text": [
            "                                TITLE       GENRE  \\\n",
            "1       Oscar et la dame rose (2009)       drama    \n",
            "2                       Cupid (1997)    thriller    \n",
            "3   Young, Wild and Wonderful (1980)       adult    \n",
            "4              The Secret Sin (1915)       drama    \n",
            "5             The Unrecovered (2007)       drama    \n",
            "\n",
            "                                         DESCRIPTION  \n",
            "1   Listening in to a conversation between his do...  \n",
            "2   A brother and sister with a past incestuous r...  \n",
            "3   As the bus empties the students for their fie...  \n",
            "4   To help their unemployed father make ends mee...  \n",
            "5   The film's title refers not only to the un-re...  \n"
          ]
        }
      ],
      "source": [
        "train = pd.read_csv('/content/train_data.txt', sep=':::', names = ['TITLE', 'GENRE', 'DESCRIPTION'], engine = 'python')\n",
        "print(train.head())"
      ]
    },
    {
      "cell_type": "code",
      "source": [
        "print(train.describe())"
      ],
      "metadata": {
        "colab": {
          "base_uri": "https://localhost:8080/"
        },
        "id": "H3wo1Ol_BGMt",
        "outputId": "ec2d28ca-932d-442a-91f6-464b3e152794"
      },
      "execution_count": 17,
      "outputs": [
        {
          "output_type": "stream",
          "name": "stdout",
          "text": [
            "                                 TITLE    GENRE  \\\n",
            "count                            54214    54214   \n",
            "unique                           54214       27   \n",
            "top      Oscar et la dame rose (2009)    drama    \n",
            "freq                                 1    13613   \n",
            "\n",
            "                                              DESCRIPTION  \n",
            "count                                               54214  \n",
            "unique                                              54086  \n",
            "top      Grammy - music award of the American academy ...  \n",
            "freq                                                   12  \n"
          ]
        }
      ]
    },
    {
      "cell_type": "code",
      "source": [
        "test = pd.read_csv('/content/test_data.txt', sep= ':::', names = ['TITLE', 'GENRE', 'DESCRIPTION'], engine = 'python')\n",
        "print(test.head())"
      ],
      "metadata": {
        "colab": {
          "base_uri": "https://localhost:8080/"
        },
        "id": "SN71D6H1C6Wf",
        "outputId": "b1e76e18-4519-42da-96fe-012d21ec1067"
      },
      "execution_count": 15,
      "outputs": [
        {
          "output_type": "stream",
          "name": "stdout",
          "text": [
            "   TITLE                          GENRE  \\\n",
            "0      1          Edgar's Lunch (1998)    \n",
            "1      2      La guerra de papá (1977)    \n",
            "2      3   Off the Beaten Track (2010)    \n",
            "3      4        Meu Amigo Hindu (2015)    \n",
            "4      5             Er nu zhai (1955)    \n",
            "\n",
            "                                         DESCRIPTION  \n",
            "0   L.R. Brane loves his life - his car, his apar...  \n",
            "1   Spain, March 1964: Quico is a very naughty ch...  \n",
            "2   One year in the life of Albin and his family ...  \n",
            "3   His father has died, he hasn't spoken with hi...  \n",
            "4   Before he was known internationally as a mart...  \n"
          ]
        }
      ]
    },
    {
      "cell_type": "code",
      "source": [
        "print(test.describe())"
      ],
      "metadata": {
        "colab": {
          "base_uri": "https://localhost:8080/"
        },
        "id": "XvDazF6sDOUX",
        "outputId": "9e9eb95e-3496-4131-8923-4e832bcafde6"
      },
      "execution_count": 16,
      "outputs": [
        {
          "output_type": "stream",
          "name": "stdout",
          "text": [
            "              TITLE\n",
            "count  54200.000000\n",
            "mean   27100.500000\n",
            "std    15646.336632\n",
            "min        1.000000\n",
            "25%    13550.750000\n",
            "50%    27100.500000\n",
            "75%    40650.250000\n",
            "max    54200.000000\n"
          ]
        }
      ]
    },
    {
      "cell_type": "markdown",
      "source": [
        "Checking NULL values"
      ],
      "metadata": {
        "id": "BbLVhAJPD1in"
      }
    },
    {
      "cell_type": "code",
      "source": [
        "train.isnull().sum()"
      ],
      "metadata": {
        "colab": {
          "base_uri": "https://localhost:8080/"
        },
        "id": "GzmqB1kWDeS9",
        "outputId": "47fbc73f-e28c-4999-9ecb-1fc7d23d0f21"
      },
      "execution_count": 19,
      "outputs": [
        {
          "output_type": "execute_result",
          "data": {
            "text/plain": [
              "TITLE          0\n",
              "GENRE          0\n",
              "DESCRIPTION    0\n",
              "dtype: int64"
            ]
          },
          "metadata": {},
          "execution_count": 19
        }
      ]
    },
    {
      "cell_type": "code",
      "source": [
        "train.isna().sum()"
      ],
      "metadata": {
        "colab": {
          "base_uri": "https://localhost:8080/"
        },
        "id": "OSmeIns8EBZP",
        "outputId": "d1f1b0aa-edb4-4ec8-f043-d18360a13ff7"
      },
      "execution_count": 20,
      "outputs": [
        {
          "output_type": "execute_result",
          "data": {
            "text/plain": [
              "TITLE          0\n",
              "GENRE          0\n",
              "DESCRIPTION    0\n",
              "dtype: int64"
            ]
          },
          "metadata": {},
          "execution_count": 20
        }
      ]
    },
    {
      "cell_type": "code",
      "source": [
        "test.isnull().sum()"
      ],
      "metadata": {
        "colab": {
          "base_uri": "https://localhost:8080/"
        },
        "id": "15s0LVbcEFPq",
        "outputId": "0a9ab11b-87b2-4f64-88b8-a6c916a2ba28"
      },
      "execution_count": 21,
      "outputs": [
        {
          "output_type": "execute_result",
          "data": {
            "text/plain": [
              "TITLE          0\n",
              "GENRE          0\n",
              "DESCRIPTION    0\n",
              "dtype: int64"
            ]
          },
          "metadata": {},
          "execution_count": 21
        }
      ]
    },
    {
      "cell_type": "code",
      "source": [
        "test.isna().sum()"
      ],
      "metadata": {
        "colab": {
          "base_uri": "https://localhost:8080/"
        },
        "id": "-5Tk4ThMEKSU",
        "outputId": "30f1b5c0-99dc-4482-e3f5-6df7b399a811"
      },
      "execution_count": 22,
      "outputs": [
        {
          "output_type": "execute_result",
          "data": {
            "text/plain": [
              "TITLE          0\n",
              "GENRE          0\n",
              "DESCRIPTION    0\n",
              "dtype: int64"
            ]
          },
          "metadata": {},
          "execution_count": 22
        }
      ]
    },
    {
      "cell_type": "code",
      "source": [
        "genre = train['GENRE'].value_counts()\n",
        "print(genre)"
      ],
      "metadata": {
        "colab": {
          "base_uri": "https://localhost:8080/"
        },
        "id": "G4oke-_fEX2N",
        "outputId": "e3698e1c-7938-46d6-9c92-45ee676b43be"
      },
      "execution_count": 24,
      "outputs": [
        {
          "output_type": "stream",
          "name": "stdout",
          "text": [
            "GENRE\n",
            " drama           13613\n",
            " documentary     13096\n",
            " comedy           7447\n",
            " short            5073\n",
            " horror           2204\n",
            " thriller         1591\n",
            " action           1315\n",
            " western          1032\n",
            " reality-tv        884\n",
            " family            784\n",
            " adventure         775\n",
            " music             731\n",
            " romance           672\n",
            " sci-fi            647\n",
            " adult             590\n",
            " crime             505\n",
            " animation         498\n",
            " sport             432\n",
            " talk-show         391\n",
            " fantasy           323\n",
            " mystery           319\n",
            " musical           277\n",
            " biography         265\n",
            " history           243\n",
            " game-show         194\n",
            " news              181\n",
            " war               132\n",
            "Name: count, dtype: int64\n"
          ]
        }
      ]
    },
    {
      "cell_type": "code",
      "source": [
        "# Plotting Genre graph\n",
        "\n",
        "plt.figure(figsize = (10,6))\n",
        "genre.plot(kind = 'bar', color = 'green')\n",
        "plt.ylabel('Frequency')\n",
        "# plt.xticks(rotation = 0.75)\n",
        "plt.show()"
      ],
      "metadata": {
        "colab": {
          "base_uri": "https://localhost:8080/",
          "height": 629
        },
        "id": "LDxOrWMyEh3J",
        "outputId": "7f169e06-a7d9-4813-e44d-d542171ba5e1"
      },
      "execution_count": 28,
      "outputs": [
        {
          "output_type": "display_data",
          "data": {
            "text/plain": [
              "<Figure size 1000x600 with 1 Axes>"
            ],
            "image/png": "[encoded data removed]"
          },
          "metadata": {}
        }
      ]
    },
    {
      "cell_type": "code",
      "source": [
        "# Making Model and doing predictions\n",
        "tfid = TfidfVectorizer(max_features= 5000)\n",
        "x_train = tfid.fit_transform(train['DESCRIPTION'])\n",
        "y_train = train['GENRE']\n",
        "\n",
        "classifier = MultinomialNB()\n",
        "classifier.fit(x_train, y_train)\n",
        "\n",
        "y_predict = classifier.predict(x_train)\n",
        "print('Classification report on training data: \\n', classification_report(y_train, y_predict))"
      ],
      "metadata": {
        "colab": {
          "base_uri": "https://localhost:8080/"
        },
        "id": "0U7ZLLMNE3Bn",
        "outputId": "49794bd9-b2be-45de-d76d-5df78a7c8d03"
      },
      "execution_count": 35,
      "outputs": [
        {
          "output_type": "stream",
          "name": "stderr",
          "text": [
            "/usr/local/lib/python3.10/dist-packages/sklearn/metrics/_classification.py:1344: UndefinedMetricWarning: Precision and F-score are ill-defined and being set to 0.0 in labels with no predicted samples. Use `zero_division` parameter to control this behavior.\n",
            "  _warn_prf(average, modifier, msg_start, len(result))\n",
            "/usr/local/lib/python3.10/dist-packages/sklearn/metrics/_classification.py:1344: UndefinedMetricWarning: Precision and F-score are ill-defined and being set to 0.0 in labels with no predicted samples. Use `zero_division` parameter to control this behavior.\n",
            "  _warn_prf(average, modifier, msg_start, len(result))\n"
          ]
        },
        {
          "output_type": "stream",
          "name": "stdout",
          "text": [
            "Classification report on training data: \n",
            "                precision    recall  f1-score   support\n",
            "\n",
            "      action        0.70      0.09      0.16      1315\n",
            "       adult        0.79      0.05      0.10       590\n",
            "   adventure        0.76      0.05      0.10       775\n",
            "   animation        0.00      0.00      0.00       498\n",
            "   biography        0.00      0.00      0.00       265\n",
            "      comedy        0.56      0.45      0.50      7447\n",
            "       crime        0.00      0.00      0.00       505\n",
            " documentary        0.57      0.90      0.70     13096\n",
            "       drama        0.47      0.84      0.60     13613\n",
            "      family        1.00      0.00      0.01       784\n",
            "     fantasy        0.00      0.00      0.00       323\n",
            "   game-show        1.00      0.14      0.24       194\n",
            "     history        0.00      0.00      0.00       243\n",
            "      horror        0.78      0.36      0.50      2204\n",
            "       music        0.90      0.16      0.27       731\n",
            "     musical        0.00      0.00      0.00       277\n",
            "     mystery        0.00      0.00      0.00       319\n",
            "        news        0.00      0.00      0.00       181\n",
            "  reality-tv        0.85      0.03      0.05       884\n",
            "     romance        0.00      0.00      0.00       672\n",
            "      sci-fi        0.85      0.04      0.09       647\n",
            "       short        0.66      0.11      0.19      5073\n",
            "       sport        0.80      0.11      0.19       432\n",
            "   talk-show        1.00      0.01      0.02       391\n",
            "    thriller        0.71      0.02      0.05      1591\n",
            "         war        0.00      0.00      0.00       132\n",
            "     western        0.97      0.59      0.73      1032\n",
            "\n",
            "     accuracy                           0.54     54214\n",
            "    macro avg       0.50      0.15      0.17     54214\n",
            " weighted avg       0.57      0.54      0.46     54214\n",
            "\n"
          ]
        },
        {
          "output_type": "stream",
          "name": "stderr",
          "text": [
            "/usr/local/lib/python3.10/dist-packages/sklearn/metrics/_classification.py:1344: UndefinedMetricWarning: Precision and F-score are ill-defined and being set to 0.0 in labels with no predicted samples. Use `zero_division` parameter to control this behavior.\n",
            "  _warn_prf(average, modifier, msg_start, len(result))\n"
          ]
        }
      ]
    },
    {
      "cell_type": "code",
      "source": [
        "tfid2 = TfidfVectorizer(max_features=5000)\n",
        "x_test = tfid2.fit_transform(test['DESCRIPTION'])"
      ],
      "metadata": {
        "id": "CRLPBjl-G6PR"
      },
      "execution_count": 40,
      "outputs": []
    },
    {
      "cell_type": "code",
      "source": [
        "x_pred = classifier.predict(x_test)\n",
        "test['Predicted Genre'] = x_pred"
      ],
      "metadata": {
        "id": "lugtaEVgHHMl"
      },
      "execution_count": 43,
      "outputs": []
    },
    {
      "cell_type": "code",
      "source": [
        "test.to_csv('df.csv', index=False)\n",
        "\n",
        "print(test)"
      ],
      "metadata": {
        "colab": {
          "base_uri": "https://localhost:8080/"
        },
        "id": "qcIhho6FIH54",
        "outputId": "7a58cc38-de7e-4ddd-d3ca-93ba84f23185"
      },
      "execution_count": 44,
      "outputs": [
        {
          "output_type": "stream",
          "name": "stdout",
          "text": [
            "       TITLE                             GENRE  \\\n",
            "0          1             Edgar's Lunch (1998)    \n",
            "1          2         La guerra de papá (1977)    \n",
            "2          3      Off the Beaten Track (2010)    \n",
            "3          4           Meu Amigo Hindu (2015)    \n",
            "4          5                Er nu zhai (1955)    \n",
            "...      ...                               ...   \n",
            "54195  54196   \"Tales of Light & Dark\" (2013)    \n",
            "54196  54197      Der letzte Mohikaner (1965)    \n",
            "54197  54198              Oliver Twink (2007)    \n",
            "54198  54199                Slipstream (1973)    \n",
            "54199  54200        Curitiba Zero Grau (2010)    \n",
            "\n",
            "                                             DESCRIPTION Predicted Genre  \n",
            "0       L.R. Brane loves his life - his car, his apar...          drama   \n",
            "1       Spain, March 1964: Quico is a very naughty ch...          drama   \n",
            "2       One year in the life of Albin and his family ...    documentary   \n",
            "3       His father has died, he hasn't spoken with hi...    documentary   \n",
            "4       Before he was known internationally as a mart...    documentary   \n",
            "...                                                  ...             ...  \n",
            "54195   Covering multiple genres, Tales of Light & Da...          drama   \n",
            "54196   As Alice and Cora Munro attempt to find their...          drama   \n",
            "54197   A movie 169 years in the making. Oliver Twist...    documentary   \n",
            "54198   Popular, but mysterious rock D.J Mike Mallard...          drama   \n",
            "54199   Curitiba is a city in movement, with rhythms ...          short   \n",
            "\n",
            "[54200 rows x 4 columns]\n"
          ]
        }
      ]
    }
  ],
  "metadata": {
    "colab": {
      "provenance": []
    },
    "kernelspec": {
      "display_name": "Python 3",
      "name": "python3"
    },
    "language_info": {
      "name": "python"
    }
  },
  "nbformat": 4,
  "nbformat_minor": 0
}
